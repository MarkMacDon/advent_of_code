{
 "cells": [
  {
   "cell_type": "code",
   "execution_count": 36,
   "metadata": {},
   "outputs": [
    {
     "name": "stdout",
     "output_type": "stream",
     "text": [
      "ecl:grn\n"
     ]
    },
    {
     "data": {
      "text/plain": [
       "{'hcl': '#b5c3db',\n",
       " 'ecl': 'grn',\n",
       " 'hgt': '155cm',\n",
       " 'pid': '#baec97',\n",
       " 'iyr': '2017',\n",
       " 'byr': '1939',\n",
       " 'eyr': '2020'}"
      ]
     },
     "execution_count": 36,
     "metadata": {},
     "output_type": "execute_result"
    }
   ],
   "source": [
    "\n",
    "# read the input file\n",
    "with open(\"input\") as file:\n",
    "    raw = file.read()\n",
    "\n",
    "\n",
    "cleaned = raw.split('\\n\\n')\n",
    "\n",
    "for index, profile in enumerate(cleaned):\n",
    "    cleaned[index] = profile.split()\n",
    "\n",
    "\n",
    "print(cleaned[1][1])\n",
    "\n",
    "fullset = (['byr','iyr', 'eyr' , 'hgt', 'hcl', 'ecl', 'pid','cid'])\n",
    "\n",
    "for index, profile in enumerate(cleaned):\n",
    "    cleaned[index] = {profile[i].split(':')[0] : profile[i].split(':')[1]  for i in range(0, len(profile))}\n",
    "\n",
    "cleaned[1]\n",
    "\n"
   ]
  },
  {
   "cell_type": "code",
   "execution_count": null,
   "metadata": {},
   "outputs": [],
   "source": [
    "\n"
   ]
  }
 ],
 "metadata": {
  "kernelspec": {
   "display_name": "Python 3",
   "language": "python",
   "name": "python3"
  },
  "language_info": {
   "codemirror_mode": {
    "name": "ipython",
    "version": 3
   },
   "file_extension": ".py",
   "mimetype": "text/x-python",
   "name": "python",
   "nbconvert_exporter": "python",
   "pygments_lexer": "ipython3",
   "version": "3.6.9"
  }
 },
 "nbformat": 4,
 "nbformat_minor": 2
}
